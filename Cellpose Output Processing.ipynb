{
 "cells": [
  {
   "cell_type": "code",
   "execution_count": null,
   "metadata": {},
   "outputs": [
    {
     "ename": "",
     "evalue": "",
     "output_type": "error",
     "traceback": [
      "\u001b[1;31mRunning cells with 'cellpose (Python 3.10.14)' requires the ipykernel package.\n",
      "\u001b[1;31mRun the following command to install 'ipykernel' into the Python environment. \n",
      "\u001b[1;31mCommand: 'conda install -p c:\\Users\\nthat\\miniforge3\\envs\\cellpose ipykernel --update-deps --force-reinstall'"
     ]
    }
   ],
   "source": [
    "from cellpose import io, models\n",
    "img = io.imread(\"img.tif\")\n",
    "masks, flows, styles = models.CellposeModel(model_type='tissuenet_cp3').eval(img,diameter=25, channels=[1,2])"
   ]
  }
 ],
 "metadata": {
  "kernelspec": {
   "display_name": "Python 3",
   "language": "python",
   "name": "python3"
  },
  "language_info": {
   "name": "python",
   "version": "3.10.14"
  }
 },
 "nbformat": 4,
 "nbformat_minor": 2
}
